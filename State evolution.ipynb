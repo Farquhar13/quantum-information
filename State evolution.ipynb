{
 "cells": [
  {
   "cell_type": "markdown",
   "id": "768234a3",
   "metadata": {},
   "source": [
    "# Equivalence of several methods of state evolution by the same unitary #\n",
    "1. state vector evolution\n",
    "2. density matrix evolution\n",
    "3. superoperator evolution"
   ]
  },
  {
   "cell_type": "code",
   "execution_count": 1,
   "id": "520aef80",
   "metadata": {},
   "outputs": [],
   "source": [
    "import numpy as np\n",
    "from qiskit.quantum_info import random_statevector, random_unitary"
   ]
  },
  {
   "cell_type": "code",
   "execution_count": 2,
   "id": "14583e02",
   "metadata": {},
   "outputs": [],
   "source": [
    "n_qubits = 1\n",
    "dim = 2**n_qubits"
   ]
  },
  {
   "cell_type": "markdown",
   "id": "360870c7",
   "metadata": {},
   "source": [
    "### Generate a random unitary and state vector ###"
   ]
  },
  {
   "cell_type": "code",
   "execution_count": 3,
   "id": "19607ad6",
   "metadata": {},
   "outputs": [],
   "source": [
    "U = random_unitary(dim).data\n",
    "psi = random_statevector(dim).data.reshape(-1, 1)\n",
    "psi_dm = psi @ psi.conj().T"
   ]
  },
  {
   "cell_type": "markdown",
   "id": "a1a3e7d0",
   "metadata": {},
   "source": [
    "## 1. state vector evolution ##\n",
    "$$ U |\\psi> = |\\phi> $$\n",
    "And the density matrix for $|\\phi>$ is: \n",
    "$$|\\phi><\\phi|$$"
   ]
  },
  {
   "cell_type": "code",
   "execution_count": 4,
   "id": "f15045ca",
   "metadata": {},
   "outputs": [],
   "source": [
    "phi = U @ psi\n",
    "phi_dm1 = phi @ phi.conj().T"
   ]
  },
  {
   "cell_type": "markdown",
   "id": "44d56ae6",
   "metadata": {},
   "source": [
    "## 2. density matrix evolution\n",
    "$$ U |\\phi><\\phi| U^\\dagger = |\\phi><\\phi| $$"
   ]
  },
  {
   "cell_type": "code",
   "execution_count": 5,
   "id": "4d56fb42",
   "metadata": {},
   "outputs": [],
   "source": [
    "phi_dm2 = U @ psi_dm @ U.conj().T"
   ]
  },
  {
   "cell_type": "markdown",
   "id": "0c31ba0d",
   "metadata": {},
   "source": [
    "## 3. superoperator evolution ##\n",
    "\n",
    "Using the \"[vec trick](https://en.wikipedia.org/wiki/Kronecker_product#Matrix_equations)\" we can start from density matrix evolution and get:\n",
    "$$\n",
    "\\text{vec}(U |\\psi><\\psi| U^\\dagger) = (U^* \\otimes U) \\text{vec}(|\\psi><\\psi|)\n",
    "$$\n",
    "\n",
    "Where $(U^* \\otimes U)$ represents a superoperator and we define $\\text{vec}()$ to be the function that vectorizes a matrix by stacking columns in column-order. We can also define $\\text{vec}^{-1}()$ to be the function that undoes the $\\text{vec}()$ operation and converts back to a density matrix.\n",
    "$$ \\text{vec}^{-1}((U^* \\otimes U) \\text{vec}(|\\psi><\\psi|)) = |\\phi><\\phi|$$ "
   ]
  },
  {
   "cell_type": "code",
   "execution_count": 6,
   "id": "522813c6",
   "metadata": {},
   "outputs": [],
   "source": [
    "vec = lambda X : X.reshape(-1, 1, order='F')\n",
    "vec_inverse = lambda X : X.reshape(dim, dim, order='F')"
   ]
  },
  {
   "cell_type": "code",
   "execution_count": 7,
   "id": "ce1a6865",
   "metadata": {},
   "outputs": [],
   "source": [
    "superop = np.kron(U.conj(), U)\n",
    "phi_dm3 = vec_inverse(superop @ vec(psi_dm))"
   ]
  },
  {
   "cell_type": "markdown",
   "id": "585a5e20",
   "metadata": {},
   "source": [
    "Note that if instead we define $\\text{vec}_{row}()$ such that it vectorizes by stacking columns in row-order then it changes to the following:\n",
    "$$\n",
    "\\text{vec}_{row}(U |\\psi><\\psi| U^\\dagger) = (U \\otimes U^*) \\text{vec}_{row}(|\\psi><\\psi|)\\\\\n",
    "\\text{vec}_{row}^{-1}((U^* \\otimes U) \\text{vec}_{row}(|\\psi><\\psi|)) = |\\phi><\\phi| \n",
    "$$"
   ]
  },
  {
   "cell_type": "code",
   "execution_count": 8,
   "id": "ab0fd9ef",
   "metadata": {},
   "outputs": [],
   "source": [
    "vec_row = lambda X : X.reshape(-1, 1)\n",
    "vec_row_inverse = lambda X : X.reshape(dim, dim)"
   ]
  },
  {
   "cell_type": "code",
   "execution_count": 9,
   "id": "3cb322d1",
   "metadata": {},
   "outputs": [],
   "source": [
    "superop = np.kron(U, U.conj())\n",
    "phi_dm4 = vec_row_inverse(superop @ vec_row(psi_dm))"
   ]
  },
  {
   "cell_type": "markdown",
   "id": "3df0e66f",
   "metadata": {},
   "source": [
    "## Demonstration of equivalence ##"
   ]
  },
  {
   "cell_type": "code",
   "execution_count": 10,
   "id": "f141e34e",
   "metadata": {},
   "outputs": [
    {
     "name": "stdout",
     "output_type": "stream",
     "text": [
      "True\n"
     ]
    }
   ],
   "source": [
    "print(np.allclose(phi_dm1, phi_dm2, phi_dm3, phi_dm4))"
   ]
  },
  {
   "cell_type": "code",
   "execution_count": 11,
   "id": "47d5c8e9",
   "metadata": {},
   "outputs": [
    {
     "name": "stdout",
     "output_type": "stream",
     "text": [
      "psi:\n",
      " [[ 0.65545951+0.59174038j]\n",
      " [-0.33760827-0.32593989j]] \n",
      "\n",
      "U:\n",
      " [[-0.41329769-0.37538345j -0.64273189-0.52456458j]\n",
      " [-0.77192535-0.30397951j  0.52957853+0.17684539j]] \n",
      "\n",
      "phi_dm:\n",
      " [[0.01082864+7.34583059e-21j 0.09364129+4.40759749e-02j]\n",
      " [0.09364129-4.40759749e-02j 0.98917136+1.36522017e-18j]]\n"
     ]
    }
   ],
   "source": [
    "print(\"psi:\\n\", psi, \"\\n\")\n",
    "print(\"U:\\n\", U, \"\\n\")\n",
    "print(\"phi_dm:\\n\", phi_dm1)"
   ]
  },
  {
   "cell_type": "code",
   "execution_count": null,
   "id": "874d7dce",
   "metadata": {},
   "outputs": [],
   "source": []
  }
 ],
 "metadata": {
  "kernelspec": {
   "display_name": "Python [conda env:rllib]",
   "language": "python",
   "name": "conda-env-rllib-py"
  },
  "language_info": {
   "codemirror_mode": {
    "name": "ipython",
    "version": 3
   },
   "file_extension": ".py",
   "mimetype": "text/x-python",
   "name": "python",
   "nbconvert_exporter": "python",
   "pygments_lexer": "ipython3",
   "version": "3.8.16"
  }
 },
 "nbformat": 4,
 "nbformat_minor": 5
}
