{
 "cells": [
  {
   "cell_type": "markdown",
   "id": "768234a3",
   "metadata": {},
   "source": [
    "# Equivalence of several methods of state evolution by the same unitary #\n",
    "1. state vector evolution\n",
    "2. density matrix evolution\n",
    "3. superoperator evolution"
   ]
  },
  {
   "cell_type": "code",
   "execution_count": 3,
   "id": "520aef80",
   "metadata": {},
   "outputs": [],
   "source": [
    "import numpy as np\n",
    "from qiskit.quantum_info import random_statevector, random_unitary"
   ]
  },
  {
   "cell_type": "code",
   "execution_count": 52,
   "id": "14583e02",
   "metadata": {},
   "outputs": [],
   "source": [
    "n_qubits = 1\n",
    "dim = 2**n_qubits"
   ]
  },
  {
   "cell_type": "markdown",
   "id": "360870c7",
   "metadata": {},
   "source": [
    "### Generate a random unitary and state vector ###"
   ]
  },
  {
   "cell_type": "code",
   "execution_count": 53,
   "id": "19607ad6",
   "metadata": {},
   "outputs": [],
   "source": [
    "U = random_unitary(dim).data\n",
    "psi = random_statevector(dim).data.reshape(-1, 1)\n",
    "psi_dm = psi @ psi.conj().T"
   ]
  },
  {
   "cell_type": "markdown",
   "id": "a1a3e7d0",
   "metadata": {},
   "source": [
    "## 1. state vector evolution ##\n",
    "$$ U |\\psi> = |\\phi> $$\n",
    "And the density matrix for $|\\phi>$ is: \n",
    "$$|\\phi><\\phi|$$"
   ]
  },
  {
   "cell_type": "code",
   "execution_count": 62,
   "id": "f15045ca",
   "metadata": {},
   "outputs": [],
   "source": [
    "phi = U @ psi\n",
    "phi_dm1 = phi @ phi.conj().T"
   ]
  },
  {
   "cell_type": "markdown",
   "id": "44d56ae6",
   "metadata": {},
   "source": [
    "## 2. density matrix evolution\n",
    "$$ U |\\phi><\\phi| U^\\dagger = |\\phi><\\phi| $$"
   ]
  },
  {
   "cell_type": "code",
   "execution_count": 63,
   "id": "4d56fb42",
   "metadata": {},
   "outputs": [],
   "source": [
    "phi_dm2 = U @ psi_dm @ U.conj().T"
   ]
  },
  {
   "cell_type": "markdown",
   "id": "0c31ba0d",
   "metadata": {},
   "source": [
    "## 3. superoperator evolution ##\n",
    "\n",
    "Using the \"[vec trick](https://en.wikipedia.org/wiki/Kronecker_product#Matrix_equations)\" we can start from density matrix evolution and get:\n",
    "$$\n",
    "U |\\psi><\\psi| U^\\dagger = (U^* \\otimes U) \\text{vec}(|\\psi><\\psi|)\n",
    "$$\n",
    "\n",
    "Where $(U^* \\otimes U)$ represents a superoperator and we define $\\text{vec}()$ to be the function that vectorizes a density matrix in column-order. We can also define $\\text{vec}^{-1}()$ to be the function that undoes the $\\text{vec}()$ operation and converts back to a density matrix.\n"
   ]
  },
  {
   "cell_type": "code",
   "execution_count": 64,
   "id": "522813c6",
   "metadata": {},
   "outputs": [],
   "source": [
    "vec = lambda X : X.reshape(-1, 1, order='F')\n",
    "vec_inverse = lambda X : X.reshape(dim, dim, order='F')"
   ]
  },
  {
   "cell_type": "code",
   "execution_count": 65,
   "id": "ce1a6865",
   "metadata": {},
   "outputs": [],
   "source": [
    "superop = np.kron(U.conj(), U)\n",
    "phi_dm3 = vec_inverse(superop @ vec(psi_dm))"
   ]
  },
  {
   "cell_type": "markdown",
   "id": "585a5e20",
   "metadata": {},
   "source": [
    "Note that if instead we define $\\text{vec}_{row}()$ such that it uses row-order then it changes to the following:\n",
    "$$\n",
    "U |\\psi><\\psi| U^\\dagger = (U \\otimes U^*) \\text{vec}_{row}(|\\psi><\\psi|)\n",
    "$$"
   ]
  },
  {
   "cell_type": "code",
   "execution_count": 74,
   "id": "ab0fd9ef",
   "metadata": {},
   "outputs": [],
   "source": [
    "vec_row = lambda X : X.reshape(-1, 1)\n",
    "vec_row_inverse = lambda X : X.reshape(dim, dim)"
   ]
  },
  {
   "cell_type": "code",
   "execution_count": 75,
   "id": "3cb322d1",
   "metadata": {},
   "outputs": [],
   "source": [
    "superop = np.kron(U, U.conj())\n",
    "phi_dm4 = vec_row_inverse(superop @ vec_row(psi_dm))"
   ]
  },
  {
   "cell_type": "markdown",
   "id": "3df0e66f",
   "metadata": {},
   "source": [
    "## Demonstration of equivalence ##"
   ]
  },
  {
   "cell_type": "code",
   "execution_count": 76,
   "id": "f141e34e",
   "metadata": {},
   "outputs": [
    {
     "name": "stdout",
     "output_type": "stream",
     "text": [
      "True\n"
     ]
    }
   ],
   "source": [
    "print(np.allclose(phi_dm1, phi_dm2, phi_dm3, phi_dm4))"
   ]
  },
  {
   "cell_type": "code",
   "execution_count": 80,
   "id": "47d5c8e9",
   "metadata": {},
   "outputs": [
    {
     "name": "stdout",
     "output_type": "stream",
     "text": [
      "psi:\n",
      " [[ 0.21189616+0.84819737j]\n",
      " [-0.38023996+0.30179267j]] \n",
      "\n",
      "U:\n",
      " [[-0.18007542-0.23495121j  0.31843593-0.90053836j]\n",
      " [ 0.27580523-0.91449562j -0.28415967+0.08296089j]] \n",
      "\n",
      "phi_dm:\n",
      " [[0.1529275 -3.24267695e-18j 0.26777424+2.40494561e-01j]\n",
      " [0.26777424-2.40494561e-01j 0.8470725 -2.91400810e-18j]]\n"
     ]
    }
   ],
   "source": [
    "print(\"psi:\\n\", psi, \"\\n\")\n",
    "print(\"U:\\n\", U, \"\\n\")\n",
    "print(\"phi_dm:\\n\", phi_dm1)"
   ]
  },
  {
   "cell_type": "code",
   "execution_count": null,
   "id": "874d7dce",
   "metadata": {},
   "outputs": [],
   "source": []
  }
 ],
 "metadata": {
  "kernelspec": {
   "display_name": "Python [conda env:rllib]",
   "language": "python",
   "name": "conda-env-rllib-py"
  },
  "language_info": {
   "codemirror_mode": {
    "name": "ipython",
    "version": 3
   },
   "file_extension": ".py",
   "mimetype": "text/x-python",
   "name": "python",
   "nbconvert_exporter": "python",
   "pygments_lexer": "ipython3",
   "version": "3.8.16"
  }
 },
 "nbformat": 4,
 "nbformat_minor": 5
}
